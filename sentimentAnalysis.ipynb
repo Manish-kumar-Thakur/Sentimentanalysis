{
 "cells": [
  {
   "cell_type": "code",
   "execution_count": null,
   "metadata": {
    "colab": {
     "base_uri": "https://localhost:8080/"
    },
    "id": "q5wb369LVe8z",
    "outputId": "d272b2f3-1de5-4629-ef38-78f7e1350633"
   },
   "outputs": [],
   "source": [
    "!pip install --upgrade transformers datasets\n"
   ]
  },
  {
   "cell_type": "code",
   "execution_count": null,
   "metadata": {
    "id": "-UZyV_YLVyD-"
   },
   "outputs": [],
   "source": [
    "import pandas as pd\n",
    "from datasets import Dataset\n",
    "from transformers import DistilBertTokenizerFast, DistilBertForSequenceClassification, TrainingArguments, Trainer, EarlyStoppingCallback\n",
    "import torch\n",
    "import torch.nn.functional as F\n",
    "import numpy as np\n",
    "import matplotlib.pyplot as plt\n",
    "from sklearn.metrics import confusion_matrix, ConfusionMatrixDisplay, accuracy_score, f1_score, precision_score, recall_score\n"
   ]
  },
  {
   "cell_type": "code",
   "execution_count": null,
   "metadata": {
    "colab": {
     "base_uri": "https://localhost:8080/"
    },
    "id": "ZBEtO0Q0V4VP",
    "outputId": "a3dafe00-ec4c-448a-a3d4-f47590cff19e"
   },
   "outputs": [],
   "source": [
    "from google.colab import drive\n",
    "drive.mount('/content/drive')\n",
    "file_path = '/content/drive/MyDrive/week7/customerFeedback.csv'\n",
    "df = pd.read_csv(file_path)"
   ]
  },
  {
   "cell_type": "code",
   "execution_count": null,
   "metadata": {
    "colab": {
     "base_uri": "https://localhost:8080/"
    },
    "id": "EUhBcrmctxCq",
    "outputId": "e70f978c-874b-4c85-f76d-5299de68be74"
   },
   "outputs": [],
   "source": [
    "print(df.head())"
   ]
  },
  {
   "cell_type": "code",
   "execution_count": null,
   "metadata": {
    "id": "cQwD8K2uXLd8"
   },
   "outputs": [],
   "source": [
    "df = df[[\"clean_text\", \"label_num\"]].dropna()\n"
   ]
  },
  {
   "cell_type": "code",
   "execution_count": null,
   "metadata": {
    "colab": {
     "base_uri": "https://localhost:8080/"
    },
    "id": "nFej51z7tI5S",
    "outputId": "7609b569-99a8-491b-80fc-4edafbcf03c6"
   },
   "outputs": [],
   "source": [
    "print(df.columns)\n"
   ]
  },
  {
   "cell_type": "code",
   "execution_count": null,
   "metadata": {
    "id": "7EGuS7UMWHwv"
   },
   "outputs": [],
   "source": [
    "df.rename(columns={\"clean_text\": \"text\", \"label_num\": \"label\"}, inplace=True)"
   ]
  },
  {
   "cell_type": "code",
   "execution_count": null,
   "metadata": {
    "id": "VCHfot1SWzC2"
   },
   "outputs": [],
   "source": [
    "dataset = Dataset.from_pandas(df)\n"
   ]
  },
  {
   "cell_type": "code",
   "execution_count": null,
   "metadata": {
    "id": "FmMhN2e-W2gH"
   },
   "outputs": [],
   "source": [
    "dataset = dataset.train_test_split(test_size=0.2)\n"
   ]
  },
  {
   "cell_type": "code",
   "execution_count": null,
   "metadata": {
    "id": "O0S7wR6ocz3y"
   },
   "outputs": [],
   "source": [
    "tokenizer = DistilBertTokenizerFast.from_pretrained('distilbert-base-uncased')"
   ]
  },
  {
   "cell_type": "code",
   "execution_count": null,
   "metadata": {
    "colab": {
     "base_uri": "https://localhost:8080/",
     "height": 81,
     "referenced_widgets": [
      "7030b6c5090d4f9db6035ea3765523fa",
      "9980223e04334d4c93e16495799aa0b8",
      "fed5bc1c713741759566466cbafed81b",
      "d182da28325f412ca5fb0e960f825ea1",
      "fc51ab9fcb0143f89ea29eecf73e7539",
      "b544b8445ae34377aa4b934b0566d01c",
      "d5347c0d373642bdb103c6ffd915a530",
      "aa23605e391d4ca3b21226f025118eda",
      "2b454b762aa645e4a52ee991bda54ee4",
      "954e91e9a7204c3486a0a2040b2e0fcc",
      "d934297cab1a4e36969534448b194b56",
      "5d23fdec4bb6409fbaa34509e9160dcd",
      "0543851ca346480bbf114ad8c70131fc",
      "99eeabfe764d4397a4ea198dc73affa1",
      "193722b746644e1eb2fa1bc24ca02ec1",
      "92e02d1cee8340c4866f5af2254d2dcc",
      "7d57130a5e6d432596e7726e3c3d9591",
      "07c4dfc560e64720add6372c8cc7e528",
      "16338009f9054b7f956e7910171b6905",
      "73b4074709f1446aaf07308970efff5a",
      "09593520fc204b88a132beba4674ce3b",
      "5c0933bf26c74b738e964ad092ed3177"
     ]
    },
    "id": "Fddb7HgUc2HA",
    "outputId": "ea1f47c4-0d6e-47ff-ab56-173f3ee443d2"
   },
   "outputs": [],
   "source": [
    "def tokenize(batch):\n",
    "    return tokenizer(\n",
    "        batch['text'],\n",
    "        padding=True,\n",
    "        truncation=True,\n",
    "        max_length=128,\n",
    "        return_attention_mask=True\n",
    "    )\n",
    "dataset = dataset.map(tokenize, batched=True)"
   ]
  },
  {
   "cell_type": "code",
   "execution_count": null,
   "metadata": {
    "colab": {
     "base_uri": "https://localhost:8080/"
    },
    "id": "ITAmJJ_4c6Lq",
    "outputId": "258c3b70-a10f-410a-98be-95405f72ac05"
   },
   "outputs": [],
   "source": [
    "num_labels = len(df[\"label\"].unique())\n",
    "model = DistilBertForSequenceClassification.from_pretrained(\"distilbert-base-uncased\", num_labels=4)\n"
   ]
  },
  {
   "cell_type": "code",
   "execution_count": null,
   "metadata": {
    "id": "kXe0P9RudEGl"
   },
   "outputs": [],
   "source": [
    "training_args = TrainingArguments(\n",
    "    output_dir=\"./results\",\n",
    "    eval_strategy=\"epoch\",          \n",
    "    logging_strategy=\"epoch\",\n",
    "    save_strategy=\"epoch\",\n",
    "    per_device_train_batch_size=8,\n",
    "    per_device_eval_batch_size=8,\n",
    "    num_train_epochs=3,\n",
    "    weight_decay=0.01,\n",
    "    load_best_model_at_end=True,\n",
    "    logging_dir=\"./logs\",\n",
    "    report_to=[],\n",
    ")\n"
   ]
  },
  {
   "cell_type": "code",
   "execution_count": null,
   "metadata": {
    "colab": {
     "base_uri": "https://localhost:8080/",
     "height": 294
    },
    "id": "OfoU8nhJj4w2",
    "outputId": "ca6948c5-6a83-4be4-f8a8-fdd7199df273"
   },
   "outputs": [],
   "source": [
    "def compute_metrics(eval_pred):\n",
    "    logits, labels = eval_pred\n",
    "    predictions = logits.argmax(axis=1)\n",
    "\n",
    "    return {\n",
    "        'accuracy': accuracy_score(labels, predictions),\n",
    "        'precision': precision_score(labels, predictions, average='weighted'),\n",
    "        'recall': recall_score(labels, predictions, average='weighted'),\n",
    "        'f1': f1_score(labels, predictions, average='weighted')\n",
    "    }\n",
    "trainer = Trainer(\n",
    "    model=model,\n",
    "    args=training_args,\n",
    "    train_dataset=dataset[\"train\"],\n",
    "    eval_dataset=dataset[\"test\"],\n",
    "    tokenizer=tokenizer,\n",
    "    compute_metrics=compute_metrics,\n",
    "    callbacks=[EarlyStoppingCallback(early_stopping_patience=2)]\n",
    ")\n",
    "\n",
    "trainer.train()"
   ]
  },
  {
   "cell_type": "code",
   "execution_count": null,
   "metadata": {
    "colab": {
     "base_uri": "https://localhost:8080/",
     "height": 92
    },
    "id": "wopkQH0gpZmB",
    "outputId": "8fb5bfc7-2a9a-4195-9e53-2e5fb1f14543"
   },
   "outputs": [],
   "source": [
    "trainer.evaluate()\n",
    "# Label mapping according to your ratings:\n",
    "label_map = {\n",
    "    0: \"Negative\",\n",
    "    1: \"Satisfactory\",\n",
    "    2: \"Good\",\n",
    "    3: \"Excellent\"\n",
    "}\n",
    "\n",
    "def predict_sentiment(text):\n",
    "    # Ensure model and input are on the same device\n",
    "    device = torch.device(\"cuda\" if torch.cuda.is_available() else \"cpu\")\n",
    "    model.to(device)\n",
    "\n",
    "    # Tokenize and move input to same device\n",
    "    inputs = tokenizer(\n",
    "        text,\n",
    "        return_tensors=\"pt\",\n",
    "        truncation=True,\n",
    "        padding=True,\n",
    "        max_length=128\n",
    "    ).to(device)\n",
    "\n",
    "    model.eval()\n",
    "    with torch.no_grad():\n",
    "        outputs = model(**inputs)\n",
    "        probs = F.softmax(outputs.logits, dim=1)\n",
    "        predicted_class_id = torch.argmax(probs, dim=1).item()\n",
    "        confidence = probs[0][predicted_class_id].item()\n",
    "\n",
    "    return label_map[predicted_class_id], confidence\n"
   ]
  },
  {
   "cell_type": "code",
   "execution_count": null,
   "metadata": {
    "colab": {
     "base_uri": "https://localhost:8080/",
     "height": 616
    },
    "id": "kHkchYLMpd2Q",
    "outputId": "889e14c8-d715-4a06-96a1-0dc16918eecb"
   },
   "outputs": [],
   "source": [
    "import matplotlib.pyplot as plt\n",
    "\n",
    "predictions = trainer.predict(dataset[\"test\"])\n",
    "\n",
    "# Get the predicted labels and true labels\n",
    "y_true = predictions.label_ids\n",
    "y_pred = predictions.predictions.argmax(axis=1)\n",
    "\n",
    "# Compute the confusion matrix\n",
    "cm = confusion_matrix(y_true, y_pred)\n",
    "\n",
    "# Display the confusion matrix\n",
    "disp = ConfusionMatrixDisplay(confusion_matrix=cm, display_labels=df['label'].unique())\n",
    "disp.plot()\n",
    "plt.title('Confusion Matrix')\n",
    "plt.show()\n",
    "\n",
    "# Additionally, we can print out the computed metrics from the evaluation step\n",
    "print(\"Evaluation Metrics:\")\n",
    "print(trainer.evaluate())"
   ]
  },
  {
   "cell_type": "code",
   "execution_count": null,
   "metadata": {
    "colab": {
     "base_uri": "https://localhost:8080/"
    },
    "id": "C7yhrEfbNEs7",
    "outputId": "3856537b-4bae-42be-9146-fb9f5a80094f"
   },
   "outputs": [],
   "source": [
    "user_text = input(\"Enter a customer review: \")\n",
    "label, conf = predict_sentiment(user_text)\n",
    "print(f\"Predicted Sentiment: {label} (Confidence(Probability): {conf:.2f})\")\n"
   ]
  }
 ],
 "metadata": {
  "accelerator": "GPU",
  "colab": {
   "gpuType": "T4",
   "provenance": []
  },
  "kernelspec": {
   "display_name": "Python 3",
   "name": "python3"
  },
  "language_info": {
   "codemirror_mode": {
    "name": "ipython",
    "version": 3
   },
   "file_extension": ".py",
   "mimetype": "text/x-python",
   "name": "python",
   "nbconvert_exporter": "python",
   "pygments_lexer": "ipython3",
   "version": "3.11.9"
  }
 },
 "nbformat": 4,
 "nbformat_minor": 0
}
