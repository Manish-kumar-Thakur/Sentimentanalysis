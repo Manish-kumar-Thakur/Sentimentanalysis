{
 "cells": [
  {
   "cell_type": "code",
   "execution_count": 5,
   "id": "98ccf23d-0975-449c-a2b7-e6b2a7e6e96d",
   "metadata": {},
   "outputs": [],
   "source": [
    "import numpy as np\n",
    "import pandas as pd"
   ]
  },
  {
   "cell_type": "code",
   "execution_count": 7,
   "id": "60daaab7-0628-4c45-9d77-0338faed6d03",
   "metadata": {},
   "outputs": [],
   "source": [
    "df = pd.read_csv(\"customerFeedback.csv\")"
   ]
  },
  {
   "cell_type": "code",
   "execution_count": 8,
   "id": "3f7246cb-7a59-4344-9d63-fce0b94c7be6",
   "metadata": {},
   "outputs": [
    {
     "data": {
      "text/plain": [
       "<bound method NDFrame.head of       Unnamed: 0                              reviewId          userName  \\\n",
       "0              0  bf9a3185-608d-4293-bfea-3f5157e3b426     A Google user   \n",
       "1              1  7e8ef74b-dbaa-4afd-8174-2d1ecd194b8c     A Google user   \n",
       "2              2  4cba7404-d8b4-48c9-ba5b-8a0b14764a2f     A Google user   \n",
       "3              3  ac7b0fa4-94b9-40e9-9d57-ea7f3273406b     A Google user   \n",
       "4              4  0339aa75-24d4-41cb-8471-a69b39e9f3ae     A Google user   \n",
       "...          ...                                   ...               ...   \n",
       "9995        9995  a9bc06a2-e48b-499a-94fe-48eac1eac0ed    Dangol Prakash   \n",
       "9996        9996  b8d0ea15-acd7-4835-a210-a83d89df4659     Anita Ghimire   \n",
       "9997        9997  483b442a-e884-4049-a125-9c53b740249d          R2S Live   \n",
       "9998        9998  466036d7-58c6-4bfe-8f11-a3e7c62eb72d  चेत माया आचार्या   \n",
       "9999        9999  7202f61e-c00d-4662-b22a-f2520290cb67       Gamer Gamer   \n",
       "\n",
       "                                              userImage  \\\n",
       "0     https://play-lh.googleusercontent.com/EGemoI2N...   \n",
       "1     https://play-lh.googleusercontent.com/EGemoI2N...   \n",
       "2     https://play-lh.googleusercontent.com/EGemoI2N...   \n",
       "3     https://play-lh.googleusercontent.com/EGemoI2N...   \n",
       "4     https://play-lh.googleusercontent.com/EGemoI2N...   \n",
       "...                                                 ...   \n",
       "9995  https://play-lh.googleusercontent.com/a-/ALV-U...   \n",
       "9996  https://play-lh.googleusercontent.com/a/ACg8oc...   \n",
       "9997  https://play-lh.googleusercontent.com/a-/ALV-U...   \n",
       "9998  https://play-lh.googleusercontent.com/a-/ALV-U...   \n",
       "9999  https://play-lh.googleusercontent.com/a/ACg8oc...   \n",
       "\n",
       "                                                content  score  thumbsUpCount  \\\n",
       "0                                               AjayDas      5              1   \n",
       "1                                    Useless, very slow      1              0   \n",
       "2     Such a poor app. Transaction limit got decreas...      1              0   \n",
       "3                                            Not update      5              0   \n",
       "4     Totally frustrating application. Can't even lo...      1             12   \n",
       "...                                                 ...    ...            ...   \n",
       "9995                                                  👎      1              0   \n",
       "9996                                           Horrible      1              0   \n",
       "9997                                             Worst.      1              0   \n",
       "9998                                          Worse App      1              0   \n",
       "9999                        Vey Bad App And It Services      1              0   \n",
       "\n",
       "     reviewCreatedVersion                   at  \\\n",
       "0                     NaN  2022-08-15 21:16:51   \n",
       "1                 3.9.0.1  2022-08-15 18:52:33   \n",
       "2                     NaN  2022-08-15 18:46:52   \n",
       "3                     NaN  2022-08-15 17:05:16   \n",
       "4                 3.9.0.1  2022-08-15 15:40:34   \n",
       "...                   ...                  ...   \n",
       "9995              3.7.3.1  2020-06-09 08:52:17   \n",
       "9996                3.6.7  2020-06-09 08:51:04   \n",
       "9997                3.7.3  2020-06-09 08:46:51   \n",
       "9998                  NaN  2020-06-09 08:42:04   \n",
       "9999              3.7.3.1  2020-06-09 08:37:04   \n",
       "\n",
       "                                           replyContent            repliedAt  \\\n",
       "0     Hello Ajay Sir, thank you so much for your enc...  2022-08-16 09:35:32   \n",
       "1     Hello Biyaz Sir, we apologize for the inconven...  2022-08-16 09:55:07   \n",
       "2     Hello there, we highly regret the inconvenienc...  2022-08-16 15:14:30   \n",
       "3     Hello Sashikant Sir, thank you so much for you...  2022-08-16 09:54:11   \n",
       "4     Hello there, we understand your frustration he...  2022-08-15 16:25:53   \n",
       "...                                                 ...                  ...   \n",
       "9995                                                NaN                  NaN   \n",
       "9996                                                NaN                  NaN   \n",
       "9997                                                NaN                  NaN   \n",
       "9998                                                NaN                  NaN   \n",
       "9999                                                NaN                  NaN   \n",
       "\n",
       "     appVersion                                         clean_text  \\\n",
       "0           NaN                                            ajaydas   \n",
       "1       3.9.0.1                                  useless very slow   \n",
       "2           NaN  such a poor app transaction limit got decrease...   \n",
       "3           NaN                                         not update   \n",
       "4       3.9.0.1  totally frustrating application cant even logi...   \n",
       "...         ...                                                ...   \n",
       "9995    3.7.3.1                                                NaN   \n",
       "9996      3.6.7                                           horrible   \n",
       "9997      3.7.3                                              worst   \n",
       "9998        NaN                                          worse app   \n",
       "9999    3.7.3.1                        vey bad app and it services   \n",
       "\n",
       "                                                 tokens  \\\n",
       "0                                           ['ajaydas']   \n",
       "1                           ['useless', 'very', 'slow']   \n",
       "2     ['such', 'a', 'poor', 'app', 'transaction', 'l...   \n",
       "3                                     ['not', 'update']   \n",
       "4     ['totally', 'frustrating', 'application', 'ca'...   \n",
       "...                                                 ...   \n",
       "9995                                                 []   \n",
       "9996                                       ['horrible']   \n",
       "9997                                          ['worst']   \n",
       "9998                                   ['worse', 'app']   \n",
       "9999     ['vey', 'bad', 'app', 'and', 'it', 'services']   \n",
       "\n",
       "                                           cleaned_text      label  label_num  \n",
       "0                                                ajayda  excellent          3  \n",
       "1                                          useless slow   negative          0  \n",
       "2     poor app transaction limit get decrease number...   negative          0  \n",
       "3                                                update  excellent          3  \n",
       "4     totally frustrating application not login say ...   negative          0  \n",
       "...                                                 ...        ...        ...  \n",
       "9995                                                NaN   negative          0  \n",
       "9996                                           horrible   negative          0  \n",
       "9997                                              worst   negative          0  \n",
       "9998                                            bad app   negative          0  \n",
       "9999                                vey bad app service   negative          0  \n",
       "\n",
       "[10000 rows x 17 columns]>"
      ]
     },
     "execution_count": 8,
     "metadata": {},
     "output_type": "execute_result"
    }
   ],
   "source": [
    "df.head"
   ]
  },
  {
   "cell_type": "code",
   "execution_count": 9,
   "id": "2bd921a4-5320-4c2d-8e19-6846ed69a780",
   "metadata": {},
   "outputs": [
    {
     "name": "stdout",
     "output_type": "stream",
     "text": [
      "['excellent' 'negative' 'satisfactory' 'good']\n"
     ]
    }
   ],
   "source": [
    "unique_types = df[\"label\"].unique()\n",
    "\n",
    "print(unique_types)"
   ]
  },
  {
   "cell_type": "code",
   "execution_count": 10,
   "id": "c0b23613-35b1-415f-8526-0ad5325d9bc4",
   "metadata": {},
   "outputs": [
    {
     "name": "stdout",
     "output_type": "stream",
     "text": [
      "[3 0 1 2]\n"
     ]
    }
   ],
   "source": [
    "unique_types = df[\"label_num\"].unique()\n",
    "\n",
    "print(unique_types)"
   ]
  },
  {
   "cell_type": "code",
   "execution_count": null,
   "id": "b06bc3a4-d698-4b45-98af-348b7b0dac03",
   "metadata": {},
   "outputs": [],
   "source": []
  }
 ],
 "metadata": {
  "kernelspec": {
   "display_name": "Python 3 (ipykernel)",
   "language": "python",
   "name": "python3"
  },
  "language_info": {
   "codemirror_mode": {
    "name": "ipython",
    "version": 3
   },
   "file_extension": ".py",
   "mimetype": "text/x-python",
   "name": "python",
   "nbconvert_exporter": "python",
   "pygments_lexer": "ipython3",
   "version": "3.11.9"
  }
 },
 "nbformat": 4,
 "nbformat_minor": 5
}
